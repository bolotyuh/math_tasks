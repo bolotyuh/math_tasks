{
  "nbformat": 4,
  "nbformat_minor": 0,
  "metadata": {
    "colab": {
      "name": "task_1.ipynb",
      "version": "0.3.2",
      "provenance": []
    },
    "kernelspec": {
      "name": "python3",
      "display_name": "Python 3"
    }
  },
  "cells": [
    {
      "metadata": {
        "id": "hFYPIxc1N1yr",
        "colab_type": "text"
      },
      "cell_type": "markdown",
      "source": [
        "# Завдання"
      ]
    },
    {
      "metadata": {
        "id": "tPlCRnPIN47R",
        "colab_type": "text"
      },
      "cell_type": "markdown",
      "source": [
        "Склади програму  яка на вхід отримує два набори даних, наприклад два масиви,  а на виході  видає чи ці два набори рівні як множини. \n",
        " Створити  клас Set   і  напиши  метод напhиклад IsEqual який перевіряє чи два об'єкти цього класу рівні між собою. Готові класи, бібліотеки  не використовувати.   Потім протестуєш  як  ця  програма працює на  множинах $A, B.$"
      ]
    },
    {
      "metadata": {
        "id": "k6Cy8C42OL7U",
        "colab_type": "text"
      },
      "cell_type": "markdown",
      "source": [
        "Дві множини рівні якщо:\n",
        "$A=B \\Leftrightarrow (A \\subseteq B \\wedge B \\subseteq A)$"
      ]
    },
    {
      "metadata": {
        "id": "Mbi4EA2HO5-0",
        "colab_type": "text"
      },
      "cell_type": "markdown",
      "source": [
        "Реалізуємо клас Set що містить метод is_subset() який перевіряє чи множина являється підмножиною іншої множини. Та перевантажимо бінарний оператор **==** рівності"
      ]
    },
    {
      "metadata": {
        "id": "K4FdHh7gN52f",
        "colab_type": "code",
        "colab": {}
      },
      "cell_type": "code",
      "source": [
        "class Set:\n",
        "  def __init__(self, elements):\n",
        "    self.elements = elements\n",
        "      \n",
        "  def __eq__(self, other):\n",
        "    return self.is_subset(other) and other.is_subset(self)\n",
        "\n",
        "  def is_subset(self, other):\n",
        "    for elem in other.elements:\n",
        "      if elem not in self.elements:\n",
        "        return False\n",
        "\n",
        "    return True\n",
        "       \n",
        "\n",
        "\n"
      ],
      "execution_count": 0,
      "outputs": []
    },
    {
      "metadata": {
        "id": "m5ATnNSLP9Le",
        "colab_type": "text"
      },
      "cell_type": "markdown",
      "source": [
        "*Створимо множини A, B*"
      ]
    },
    {
      "metadata": {
        "id": "AmYwQ311QE4i",
        "colab_type": "code",
        "colab": {}
      },
      "cell_type": "code",
      "source": [
        "A = Set(['a', 'a', 'b'])\n",
        "B = Set(['b', 'b', 'a'])"
      ],
      "execution_count": 0,
      "outputs": []
    },
    {
      "metadata": {
        "id": "aOY2yqAOQNym",
        "colab_type": "text"
      },
      "cell_type": "markdown",
      "source": [
        "Перевіримо чи вони рівні"
      ]
    },
    {
      "metadata": {
        "id": "KfjUvSDgQUlo",
        "colab_type": "code",
        "colab": {
          "base_uri": "https://localhost:8080/",
          "height": 34
        },
        "outputId": "60d5a2c5-789b-400d-db31-46d8ccb7ce45"
      },
      "cell_type": "code",
      "source": [
        "if (A == B):\n",
        "  print('A==B')\n",
        "else:\n",
        "  print('A!=B')"
      ],
      "execution_count": 8,
      "outputs": [
        {
          "output_type": "stream",
          "text": [
            "A==B\n"
          ],
          "name": "stdout"
        }
      ]
    },
    {
      "metadata": {
        "id": "gbJwkzeCRQWS",
        "colab_type": "text"
      },
      "cell_type": "markdown",
      "source": [
        "Також можемо перевірити чи множина $A$ міститься в $B$"
      ]
    },
    {
      "metadata": {
        "id": "hBf50PGzRel4",
        "colab_type": "code",
        "colab": {
          "base_uri": "https://localhost:8080/",
          "height": 34
        },
        "outputId": "a66e27c5-9cc5-436e-f7c7-fc2ea315b9bb"
      },
      "cell_type": "code",
      "source": [
        "if A.is_subset(B):\n",
        "  print('True')\n",
        "else:\n",
        "  print('False')"
      ],
      "execution_count": 9,
      "outputs": [
        {
          "output_type": "stream",
          "text": [
            "True\n"
          ],
          "name": "stdout"
        }
      ]
    }
  ]
}